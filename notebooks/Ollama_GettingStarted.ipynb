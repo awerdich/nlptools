{
 "cells": [
  {
   "cell_type": "markdown",
   "id": "cc38e1e0-9847-4faa-81a1-099f7478f66b",
   "metadata": {},
   "source": [
    "### Getting started with Ollama ###"
   ]
  },
  {
   "cell_type": "code",
   "execution_count": 1,
   "id": "f3e627fc-094d-412a-82fc-4d3b27074179",
   "metadata": {},
   "outputs": [
    {
     "data": {
      "text/html": [
       "<style>.container { width:100% !important; }</style>"
      ],
      "text/plain": [
       "<IPython.core.display.HTML object>"
      ]
     },
     "metadata": {},
     "output_type": "display_data"
    },
    {
     "name": "stdout",
     "output_type": "stream",
     "text": [
      "NLP Tools package version:  0.0.post1.dev31+gb496182.d20250109\n"
     ]
    }
   ],
   "source": [
    "import os\n",
    "import glob\n",
    "import numpy as np\n",
    "import pandas as pd\n",
    "import asyncio\n",
    "\n",
    "# Appearance of the Notebook\n",
    "from IPython.display import display, HTML\n",
    "display(HTML(\"<style>.container { width:100% !important; }</style>\"))\n",
    "np.set_printoptions(linewidth=110)\n",
    "pd.set_option('display.max_rows', 500)\n",
    "pd.set_option('display.max_columns', 100)\n",
    "pd.set_option('display.width', 1000)\n",
    "\n",
    "# Import this module with autoreload\n",
    "%load_ext autoreload\n",
    "%autoreload 2\n",
    "import nlptools as nlpt\n",
    "print(f'NLP Tools package version:  {nlpt.__version__}')"
   ]
  },
  {
   "cell_type": "code",
   "execution_count": 2,
   "id": "734cc303-a922-4f3e-a0ff-033314c113f6",
   "metadata": {},
   "outputs": [
    {
     "name": "stdout",
     "output_type": "stream",
     "text": [
      "localhost:7486\n"
     ]
    }
   ],
   "source": [
    "print(os.environ.get('OLLAMA_HOST'))"
   ]
  },
  {
   "cell_type": "code",
   "execution_count": 3,
   "id": "0bea6a08-a21d-4afa-af53-58a6253579cb",
   "metadata": {},
   "outputs": [],
   "source": [
    "import ollama"
   ]
  },
  {
   "cell_type": "markdown",
   "id": "dd7d4bae-ace3-49e9-bbab-aa01292c0a1a",
   "metadata": {},
   "source": [
    "### Ollama ###"
   ]
  },
  {
   "cell_type": "code",
   "execution_count": 4,
   "id": "1788aa32-3cb0-453c-8aed-f7f9ffba4358",
   "metadata": {},
   "outputs": [
    {
     "name": "stdout",
     "output_type": "stream",
     "text": [
      "models=[Model(model='llama3.2:1b', modified_at=datetime.datetime(2025, 1, 11, 13, 46, 58, 85707, tzinfo=TzInfo(UTC)), digest='baf6a787fdffd633537aa2eb51cfd54cb93ff08e28040095462bb63daf552878', size=1321098329, details=ModelDetails(parent_model='', format='gguf', family='llama', families=['llama'], parameter_size='1.2B', quantization_level='Q8_0'))]\n"
     ]
    }
   ],
   "source": [
    "model_name = 'llama3.2:1b'\n",
    "# Set the environmental variable\n",
    "# http://127.0.0.1:11435\n",
    "# http://host.docker.internal:11434\n",
    "# http://host.docker.internal:7869\n",
    "ollama.pull(model=model_name)\n",
    "print(ollama.list())"
   ]
  },
  {
   "cell_type": "code",
   "execution_count": null,
   "id": "dd033c81-c343-444b-a600-d83407d784e8",
   "metadata": {},
   "outputs": [],
   "source": []
  }
 ],
 "metadata": {
  "kernelspec": {
   "display_name": "Python 3 (ipykernel)",
   "language": "python",
   "name": "python3"
  },
  "language_info": {
   "codemirror_mode": {
    "name": "ipython",
    "version": 3
   },
   "file_extension": ".py",
   "mimetype": "text/x-python",
   "name": "python",
   "nbconvert_exporter": "python",
   "pygments_lexer": "ipython3",
   "version": "3.12.3"
  }
 },
 "nbformat": 4,
 "nbformat_minor": 5
}
