{
 "cells": [
  {
   "cell_type": "markdown",
   "id": "cc38e1e0-9847-4faa-81a1-099f7478f66b",
   "metadata": {},
   "source": [
    "### Hugging Face Transformers: Tasks ###\n",
    "Use Hugging Face models for NLP tasks\n",
    "- Text classification\n",
    "- Named entity recognition\n",
    "- Question - answering\n",
    "- Translation\n",
    "- Text generation"
   ]
  },
  {
   "cell_type": "code",
   "execution_count": 1,
   "id": "f3e627fc-094d-412a-82fc-4d3b27074179",
   "metadata": {},
   "outputs": [
    {
     "data": {
      "text/html": [
       "<style>.container { width:100% !important; }</style>"
      ],
      "text/plain": [
       "<IPython.core.display.HTML object>"
      ]
     },
     "metadata": {},
     "output_type": "display_data"
    },
    {
     "name": "stdout",
     "output_type": "stream",
     "text": [
      "NLP Tools package version:  0.0.post1.dev31+gb496182.d20250109\n",
      "PyTorch version:            2.6.0a0+df5bbc09d1.nv24.11\n"
     ]
    }
   ],
   "source": [
    "import os\n",
    "import glob\n",
    "import numpy as np\n",
    "import pandas as pd\n",
    "\n",
    "# PyTorch packages\n",
    "import torch\n",
    "import torch.nn as nn\n",
    "\n",
    "# Hugging Face\n",
    "from transformers import pipeline\n",
    "from transformers import DistilBertTokenizer, DistilBertForSequenceClassification\n",
    "from transformers import AutoTokenizer, AutoModelForSequenceClassification\n",
    "from transformers import set_seed\n",
    "\n",
    "# Appearance of the Notebook\n",
    "from IPython.display import display, HTML\n",
    "display(HTML(\"<style>.container { width:100% !important; }</style>\"))\n",
    "np.set_printoptions(linewidth=110)\n",
    "pd.set_option('display.max_rows', 500)\n",
    "pd.set_option('display.max_columns', 100)\n",
    "pd.set_option('display.width', 1000)\n",
    "\n",
    "# Import this module with autoreload\n",
    "%load_ext autoreload\n",
    "%autoreload 2\n",
    "import nlptools as nlpt\n",
    "print(f'NLP Tools package version:  {nlpt.__version__}')\n",
    "print(f'PyTorch version:            {torch.__version__}')"
   ]
  },
  {
   "cell_type": "code",
   "execution_count": 2,
   "id": "5d1242a0-329a-4205-b24d-903c8a236227",
   "metadata": {},
   "outputs": [
    {
     "name": "stdout",
     "output_type": "stream",
     "text": [
      "CUDA available: True\n",
      "Number of GPUs found:  1\n",
      "Current device ID:     0\n",
      "GPU device name:       NVIDIA GeForce RTX 3070 Laptop GPU\n",
      "CUDNN version:         90501\n",
      "\n",
      "Device for model training/inference: cuda:0\n"
     ]
    }
   ],
   "source": [
    "# GPU checks\n",
    "is_cuda = torch.cuda.is_available()\n",
    "print(f'CUDA available: {is_cuda}')\n",
    "print(f'Number of GPUs found:  {torch.cuda.device_count()}')\n",
    "\n",
    "if is_cuda:\n",
    "    print(f'Current device ID:     {torch.cuda.current_device()}')\n",
    "    print(f'GPU device name:       {torch.cuda.get_device_name(0)}')\n",
    "    print(f'CUDNN version:         {torch.backends.cudnn.version()}')\n",
    "    device_str = 'cuda:0'\n",
    "    torch.cuda.empty_cache() \n",
    "else:\n",
    "    device_str = 'cpu'\n",
    "device = torch.device(device_str)\n",
    "print()\n",
    "print(f'Device for model training/inference: {device}')"
   ]
  },
  {
   "cell_type": "markdown",
   "id": "dd7d4bae-ace3-49e9-bbab-aa01292c0a1a",
   "metadata": {},
   "source": [
    "### Task: Text classification ###"
   ]
  },
  {
   "cell_type": "code",
   "execution_count": 3,
   "id": "29cc2d91-4c5e-4640-9987-3eefcc4086b8",
   "metadata": {},
   "outputs": [
    {
     "name": "stderr",
     "output_type": "stream",
     "text": [
      "Device set to use cuda:0\n"
     ]
    },
    {
     "data": {
      "text/html": [
       "<div>\n",
       "<style scoped>\n",
       "    .dataframe tbody tr th:only-of-type {\n",
       "        vertical-align: middle;\n",
       "    }\n",
       "\n",
       "    .dataframe tbody tr th {\n",
       "        vertical-align: top;\n",
       "    }\n",
       "\n",
       "    .dataframe thead th {\n",
       "        text-align: right;\n",
       "    }\n",
       "</style>\n",
       "<table border=\"1\" class=\"dataframe\">\n",
       "  <thead>\n",
       "    <tr style=\"text-align: right;\">\n",
       "      <th></th>\n",
       "      <th>label</th>\n",
       "      <th>score</th>\n",
       "    </tr>\n",
       "  </thead>\n",
       "  <tbody>\n",
       "    <tr>\n",
       "      <th>0</th>\n",
       "      <td>NEGATIVE</td>\n",
       "      <td>0.999113</td>\n",
       "    </tr>\n",
       "  </tbody>\n",
       "</table>\n",
       "</div>"
      ],
      "text/plain": [
       "      label     score\n",
       "0  NEGATIVE  0.999113"
      ]
     },
     "metadata": {},
     "output_type": "display_data"
    }
   ],
   "source": [
    "# Default model: distilbert-base-uncased-finetuned-sst-2-english \n",
    "classifier = pipeline(model = 'distilbert/distilbert-base-uncased-finetuned-sst-2-english')\n",
    "text1 = 'I love you'\n",
    "text2 = 'I hate you'\n",
    "outputs = classifier(text2)\n",
    "display(pd.DataFrame(outputs))"
   ]
  },
  {
   "cell_type": "markdown",
   "id": "76b5656c-8e7a-4dbd-85b5-af7142f4defb",
   "metadata": {},
   "source": [
    "### Task: Named entity recognition NER ###"
   ]
  },
  {
   "cell_type": "code",
   "execution_count": 4,
   "id": "9b9c7193-5adc-43a2-83a8-6609b8343dac",
   "metadata": {},
   "outputs": [
    {
     "name": "stderr",
     "output_type": "stream",
     "text": [
      "No model was supplied, defaulted to dbmdz/bert-large-cased-finetuned-conll03-english and revision 4c53496 (https://huggingface.co/dbmdz/bert-large-cased-finetuned-conll03-english).\n",
      "Using a pipeline without specifying a model name and revision in production is not recommended.\n",
      "Some weights of the model checkpoint at dbmdz/bert-large-cased-finetuned-conll03-english were not used when initializing BertForTokenClassification: ['bert.pooler.dense.bias', 'bert.pooler.dense.weight']\n",
      "- This IS expected if you are initializing BertForTokenClassification from the checkpoint of a model trained on another task or with another architecture (e.g. initializing a BertForSequenceClassification model from a BertForPreTraining model).\n",
      "- This IS NOT expected if you are initializing BertForTokenClassification from the checkpoint of a model that you expect to be exactly identical (initializing a BertForSequenceClassification model from a BertForSequenceClassification model).\n",
      "Device set to use cuda:0\n"
     ]
    }
   ],
   "source": [
    "ner_tagger = pipeline('ner', aggregation_strategy='simple')"
   ]
  },
  {
   "cell_type": "code",
   "execution_count": 5,
   "id": "0b2bd45e-320e-46a7-888b-a4a346fb5b3f",
   "metadata": {},
   "outputs": [
    {
     "data": {
      "text/html": [
       "<div>\n",
       "<style scoped>\n",
       "    .dataframe tbody tr th:only-of-type {\n",
       "        vertical-align: middle;\n",
       "    }\n",
       "\n",
       "    .dataframe tbody tr th {\n",
       "        vertical-align: top;\n",
       "    }\n",
       "\n",
       "    .dataframe thead th {\n",
       "        text-align: right;\n",
       "    }\n",
       "</style>\n",
       "<table border=\"1\" class=\"dataframe\">\n",
       "  <thead>\n",
       "    <tr style=\"text-align: right;\">\n",
       "      <th></th>\n",
       "      <th>entity_group</th>\n",
       "      <th>score</th>\n",
       "      <th>word</th>\n",
       "      <th>start</th>\n",
       "      <th>end</th>\n",
       "    </tr>\n",
       "  </thead>\n",
       "  <tbody>\n",
       "    <tr>\n",
       "      <th>0</th>\n",
       "      <td>PER</td>\n",
       "      <td>0.995936</td>\n",
       "      <td>Andreas Werdich</td>\n",
       "      <td>11</td>\n",
       "      <td>26</td>\n",
       "    </tr>\n",
       "    <tr>\n",
       "      <th>1</th>\n",
       "      <td>ORG</td>\n",
       "      <td>0.866248</td>\n",
       "      <td>Harvard Medical School</td>\n",
       "      <td>47</td>\n",
       "      <td>69</td>\n",
       "    </tr>\n",
       "  </tbody>\n",
       "</table>\n",
       "</div>"
      ],
      "text/plain": [
       "  entity_group     score                    word  start  end\n",
       "0          PER  0.995936         Andreas Werdich     11   26\n",
       "1          ORG  0.866248  Harvard Medical School     47   69"
      ]
     },
     "metadata": {},
     "output_type": "display_data"
    }
   ],
   "source": [
    "text = 'My name is Andreas Werdich and I am working at Harvard Medical School'\n",
    "outputs = ner_tagger(text)\n",
    "display(pd.DataFrame(outputs))"
   ]
  },
  {
   "cell_type": "code",
   "execution_count": 5,
   "id": "c961fc8c-f181-4bd7-bc9e-8a11999cd91d",
   "metadata": {},
   "outputs": [
    {
     "name": "stderr",
     "output_type": "stream",
     "text": [
      "Device set to use cuda:0\n"
     ]
    }
   ],
   "source": [
    "# Medical terms extractions\n",
    "model_name = 'blaze999/Medical-NER'\n",
    "ner_tagger = pipeline(model=model_name, aggregation_strategy='simple')"
   ]
  },
  {
   "cell_type": "code",
   "execution_count": 6,
   "id": "d0aa1681-da00-48dd-99aa-edc1657dbca9",
   "metadata": {},
   "outputs": [
    {
     "name": "stderr",
     "output_type": "stream",
     "text": [
      "Asking to truncate to max_length but no maximum length is provided and the model has no predefined maximum length. Default to no truncation.\n"
     ]
    },
    {
     "data": {
      "text/html": [
       "<div>\n",
       "<style scoped>\n",
       "    .dataframe tbody tr th:only-of-type {\n",
       "        vertical-align: middle;\n",
       "    }\n",
       "\n",
       "    .dataframe tbody tr th {\n",
       "        vertical-align: top;\n",
       "    }\n",
       "\n",
       "    .dataframe thead th {\n",
       "        text-align: right;\n",
       "    }\n",
       "</style>\n",
       "<table border=\"1\" class=\"dataframe\">\n",
       "  <thead>\n",
       "    <tr style=\"text-align: right;\">\n",
       "      <th></th>\n",
       "      <th>entity_group</th>\n",
       "      <th>score</th>\n",
       "      <th>word</th>\n",
       "      <th>start</th>\n",
       "      <th>end</th>\n",
       "    </tr>\n",
       "  </thead>\n",
       "  <tbody>\n",
       "    <tr>\n",
       "      <th>0</th>\n",
       "      <td>AGE</td>\n",
       "      <td>0.941736</td>\n",
       "      <td>48 year-old</td>\n",
       "      <td>1</td>\n",
       "      <td>13</td>\n",
       "    </tr>\n",
       "    <tr>\n",
       "      <th>1</th>\n",
       "      <td>SEX</td>\n",
       "      <td>0.818373</td>\n",
       "      <td>female</td>\n",
       "      <td>13</td>\n",
       "      <td>20</td>\n",
       "    </tr>\n",
       "    <tr>\n",
       "      <th>2</th>\n",
       "      <td>CLINICAL_EVENT</td>\n",
       "      <td>0.853015</td>\n",
       "      <td>presented</td>\n",
       "      <td>20</td>\n",
       "      <td>30</td>\n",
       "    </tr>\n",
       "    <tr>\n",
       "      <th>3</th>\n",
       "      <td>BIOLOGICAL_STRUCTURE</td>\n",
       "      <td>0.944933</td>\n",
       "      <td>vaginal</td>\n",
       "      <td>35</td>\n",
       "      <td>43</td>\n",
       "    </tr>\n",
       "    <tr>\n",
       "      <th>4</th>\n",
       "      <td>SIGN_SYMPTOM</td>\n",
       "      <td>0.872998</td>\n",
       "      <td>bleeding</td>\n",
       "      <td>43</td>\n",
       "      <td>52</td>\n",
       "    </tr>\n",
       "    <tr>\n",
       "      <th>5</th>\n",
       "      <td>LAB_VALUE</td>\n",
       "      <td>0.769152</td>\n",
       "      <td>abnormal</td>\n",
       "      <td>56</td>\n",
       "      <td>65</td>\n",
       "    </tr>\n",
       "    <tr>\n",
       "      <th>6</th>\n",
       "      <td>DIAGNOSTIC_PROCEDURE</td>\n",
       "      <td>0.987654</td>\n",
       "      <td>Pap smears</td>\n",
       "      <td>65</td>\n",
       "      <td>76</td>\n",
       "    </tr>\n",
       "    <tr>\n",
       "      <th>7</th>\n",
       "      <td>DETAILED_DESCRIPTION</td>\n",
       "      <td>0.934324</td>\n",
       "      <td>invasive</td>\n",
       "      <td>95</td>\n",
       "      <td>104</td>\n",
       "    </tr>\n",
       "    <tr>\n",
       "      <th>8</th>\n",
       "      <td>DETAILED_DESCRIPTION</td>\n",
       "      <td>0.961545</td>\n",
       "      <td>non-keratinizing</td>\n",
       "      <td>104</td>\n",
       "      <td>121</td>\n",
       "    </tr>\n",
       "    <tr>\n",
       "      <th>9</th>\n",
       "      <td>DISEASE_DISORDER</td>\n",
       "      <td>0.784436</td>\n",
       "      <td>SCC</td>\n",
       "      <td>121</td>\n",
       "      <td>125</td>\n",
       "    </tr>\n",
       "    <tr>\n",
       "      <th>10</th>\n",
       "      <td>BIOLOGICAL_STRUCTURE</td>\n",
       "      <td>0.948247</td>\n",
       "      <td>cervix</td>\n",
       "      <td>132</td>\n",
       "      <td>139</td>\n",
       "    </tr>\n",
       "    <tr>\n",
       "      <th>11</th>\n",
       "      <td>DETAILED_DESCRIPTION</td>\n",
       "      <td>0.829290</td>\n",
       "      <td>radical</td>\n",
       "      <td>156</td>\n",
       "      <td>164</td>\n",
       "    </tr>\n",
       "    <tr>\n",
       "      <th>12</th>\n",
       "      <td>THERAPEUTIC_PROCEDURE</td>\n",
       "      <td>0.798121</td>\n",
       "      <td>hysterectomy</td>\n",
       "      <td>164</td>\n",
       "      <td>177</td>\n",
       "    </tr>\n",
       "    <tr>\n",
       "      <th>13</th>\n",
       "      <td>THERAPEUTIC_PROCEDURE</td>\n",
       "      <td>0.879705</td>\n",
       "      <td>salpingo-oophorectomy</td>\n",
       "      <td>182</td>\n",
       "      <td>204</td>\n",
       "    </tr>\n",
       "    <tr>\n",
       "      <th>14</th>\n",
       "      <td>DETAILED_DESCRIPTION</td>\n",
       "      <td>0.468274</td>\n",
       "      <td>positive</td>\n",
       "      <td>223</td>\n",
       "      <td>232</td>\n",
       "    </tr>\n",
       "    <tr>\n",
       "      <th>15</th>\n",
       "      <td>BIOLOGICAL_STRUCTURE</td>\n",
       "      <td>0.957881</td>\n",
       "      <td>pelvic lymph nodes</td>\n",
       "      <td>246</td>\n",
       "      <td>265</td>\n",
       "    </tr>\n",
       "    <tr>\n",
       "      <th>16</th>\n",
       "      <td>BIOLOGICAL_STRUCTURE</td>\n",
       "      <td>0.929407</td>\n",
       "      <td>parametrium</td>\n",
       "      <td>273</td>\n",
       "      <td>285</td>\n",
       "    </tr>\n",
       "    <tr>\n",
       "      <th>17</th>\n",
       "      <td>DIAGNOSTIC_PROCEDURE</td>\n",
       "      <td>0.989069</td>\n",
       "      <td>Pathological examination</td>\n",
       "      <td>286</td>\n",
       "      <td>311</td>\n",
       "    </tr>\n",
       "    <tr>\n",
       "      <th>18</th>\n",
       "      <td>SIGN_SYMPTOM</td>\n",
       "      <td>0.397357</td>\n",
       "      <td>tumour</td>\n",
       "      <td>329</td>\n",
       "      <td>336</td>\n",
       "    </tr>\n",
       "    <tr>\n",
       "      <th>19</th>\n",
       "      <td>BIOLOGICAL_STRUCTURE</td>\n",
       "      <td>0.963302</td>\n",
       "      <td>lower uterine segment</td>\n",
       "      <td>366</td>\n",
       "      <td>388</td>\n",
       "    </tr>\n",
       "  </tbody>\n",
       "</table>\n",
       "</div>"
      ],
      "text/plain": [
       "             entity_group     score                      word  start  end\n",
       "0                     AGE  0.941736               48 year-old      1   13\n",
       "1                     SEX  0.818373                    female     13   20\n",
       "2          CLINICAL_EVENT  0.853015                 presented     20   30\n",
       "3    BIOLOGICAL_STRUCTURE  0.944933                   vaginal     35   43\n",
       "4            SIGN_SYMPTOM  0.872998                  bleeding     43   52\n",
       "5               LAB_VALUE  0.769152                  abnormal     56   65\n",
       "6    DIAGNOSTIC_PROCEDURE  0.987654                Pap smears     65   76\n",
       "7    DETAILED_DESCRIPTION  0.934324                  invasive     95  104\n",
       "8    DETAILED_DESCRIPTION  0.961545          non-keratinizing    104  121\n",
       "9        DISEASE_DISORDER  0.784436                       SCC    121  125\n",
       "10   BIOLOGICAL_STRUCTURE  0.948247                    cervix    132  139\n",
       "11   DETAILED_DESCRIPTION  0.829290                   radical    156  164\n",
       "12  THERAPEUTIC_PROCEDURE  0.798121              hysterectomy    164  177\n",
       "13  THERAPEUTIC_PROCEDURE  0.879705     salpingo-oophorectomy    182  204\n",
       "14   DETAILED_DESCRIPTION  0.468274                  positive    223  232\n",
       "15   BIOLOGICAL_STRUCTURE  0.957881        pelvic lymph nodes    246  265\n",
       "16   BIOLOGICAL_STRUCTURE  0.929407               parametrium    273  285\n",
       "17   DIAGNOSTIC_PROCEDURE  0.989069  Pathological examination    286  311\n",
       "18           SIGN_SYMPTOM  0.397357                    tumour    329  336\n",
       "19   BIOLOGICAL_STRUCTURE  0.963302     lower uterine segment    366  388"
      ]
     },
     "metadata": {},
     "output_type": "display_data"
    }
   ],
   "source": [
    "text = 'A 48 year-old female presented with vaginal bleeding and abnormal Pap smears. Upon diagnosis of invasive non-keratinizing SCC of the cervix, she underwent a radical hysterectomy with salpingo-oophorectomy which demonstrated positive spread to the pelvic lymph nodes and the parametrium. Pathological examination revealed that the tumour also extensively involved the lower uterine segment.'\n",
    "outputs = ner_tagger(text)\n",
    "display(pd.DataFrame(outputs))"
   ]
  },
  {
   "cell_type": "code",
   "execution_count": 7,
   "id": "e4b237cf-47c7-4466-a44f-97a9aef72faa",
   "metadata": {},
   "outputs": [
    {
     "name": "stderr",
     "output_type": "stream",
     "text": [
      "Device set to use cuda:0\n"
     ]
    }
   ],
   "source": [
    "model_name = 'varunnagda/bert-medication'\n",
    "ner_tagger = pipeline(model=model_name, aggregation_strategy='simple')"
   ]
  },
  {
   "cell_type": "code",
   "execution_count": 8,
   "id": "fc4a4617-03b5-4fbc-bfc0-33b4b00979b4",
   "metadata": {},
   "outputs": [
    {
     "data": {
      "text/html": [
       "<div>\n",
       "<style scoped>\n",
       "    .dataframe tbody tr th:only-of-type {\n",
       "        vertical-align: middle;\n",
       "    }\n",
       "\n",
       "    .dataframe tbody tr th {\n",
       "        vertical-align: top;\n",
       "    }\n",
       "\n",
       "    .dataframe thead th {\n",
       "        text-align: right;\n",
       "    }\n",
       "</style>\n",
       "<table border=\"1\" class=\"dataframe\">\n",
       "  <thead>\n",
       "    <tr style=\"text-align: right;\">\n",
       "      <th></th>\n",
       "      <th>entity_group</th>\n",
       "      <th>score</th>\n",
       "      <th>word</th>\n",
       "      <th>start</th>\n",
       "      <th>end</th>\n",
       "    </tr>\n",
       "  </thead>\n",
       "  <tbody>\n",
       "    <tr>\n",
       "      <th>0</th>\n",
       "      <td>Medication</td>\n",
       "      <td>0.944490</td>\n",
       "      <td>albuterol</td>\n",
       "      <td>506</td>\n",
       "      <td>515</td>\n",
       "    </tr>\n",
       "    <tr>\n",
       "      <th>1</th>\n",
       "      <td>Medication</td>\n",
       "      <td>0.616578</td>\n",
       "      <td>##r</td>\n",
       "      <td>522</td>\n",
       "      <td>523</td>\n",
       "    </tr>\n",
       "    <tr>\n",
       "      <th>2</th>\n",
       "      <td>Medication</td>\n",
       "      <td>0.952474</td>\n",
       "      <td>tiotropium</td>\n",
       "      <td>525</td>\n",
       "      <td>535</td>\n",
       "    </tr>\n",
       "    <tr>\n",
       "      <th>3</th>\n",
       "      <td>Medication</td>\n",
       "      <td>0.967220</td>\n",
       "      <td>prednisone</td>\n",
       "      <td>558</td>\n",
       "      <td>568</td>\n",
       "    </tr>\n",
       "    <tr>\n",
       "      <th>4</th>\n",
       "      <td>Medication</td>\n",
       "      <td>0.972024</td>\n",
       "      <td>azithromycin</td>\n",
       "      <td>570</td>\n",
       "      <td>582</td>\n",
       "    </tr>\n",
       "    <tr>\n",
       "      <th>5</th>\n",
       "      <td>Medication</td>\n",
       "      <td>0.975528</td>\n",
       "      <td>pantoprazole</td>\n",
       "      <td>588</td>\n",
       "      <td>600</td>\n",
       "    </tr>\n",
       "  </tbody>\n",
       "</table>\n",
       "</div>"
      ],
      "text/plain": [
       "  entity_group     score          word  start  end\n",
       "0   Medication  0.944490     albuterol    506  515\n",
       "1   Medication  0.616578           ##r    522  523\n",
       "2   Medication  0.952474    tiotropium    525  535\n",
       "3   Medication  0.967220    prednisone    558  568\n",
       "4   Medication  0.972024  azithromycin    570  582\n",
       "5   Medication  0.975528  pantoprazole    588  600"
      ]
     },
     "metadata": {},
     "output_type": "display_data"
    }
   ],
   "source": [
    "text = \"\"\"\n",
    "John Doe, a 53-year-old male, was admitted to City General Hospital on 09/25/2023 with acute exacerbation of COPD \n",
    "and community-acquired pneumonia. \n",
    "He received high-flow oxygen therapy and intravenous antibiotics, \n",
    "which led to significant improvement in his respiratory function. \n",
    "By 10/01/2023, he transitioned to oral antibiotics and nasal cannula oxygen. \n",
    "Physical therapy sessions enhanced his lung capacity, enabling discharge on 10/05/2023 in stable condition. \n",
    "The discharge medications include Albuterol Inhaler, Tiotropium, a tapering course of Prednisone, Azithromycin, and Pantoprazole. \n",
    "John is advised to avoid lung irritants, adhere to his medication regimen, and seek medical attention if symptoms recur. \n",
    "Follow-up appointments are scheduled with pulmonology on 10/12/2023 and his primary care physician on 10/14/2023.\n",
    "\"\"\"\n",
    "outputs = ner_tagger(text)\n",
    "display(pd.DataFrame(outputs))"
   ]
  },
  {
   "cell_type": "markdown",
   "id": "6cfa0966-9fa9-4c1e-bb8a-10e6d2e0978a",
   "metadata": {},
   "source": [
    "### Task: Extractive Question-Answering ###"
   ]
  },
  {
   "cell_type": "code",
   "execution_count": 9,
   "id": "f2d08728-5d0b-46a6-ba3f-085419c84aae",
   "metadata": {},
   "outputs": [],
   "source": [
    "# Context\n",
    "text = '''\n",
    "Dear Amazon Customer Service,\n",
    "I hope this message finds you well. I am writing to bring to your attention an issue with a recent order delivered to me. \n",
    "I ordered a web camera (Order #2378), but unfortunately, I received a different model than what I had originally ordered.\n",
    "I kindly request assistance in resolving this matter. \n",
    "Could you please provide guidance on how to return the incorrect item and ensure \n",
    "the correct web camera is sent to me as soon as possible? Thank you for your prompt attention to this issue. \n",
    "I appreciate your support and look forward to resolving this matter quickly.\n",
    "Best regards, Andreas Werdich\n",
    "'''\n",
    "# Questions\n",
    "question_list = ['What was wrong with the order?', \n",
    "                 'What is the name of the person who wrote the message?',\n",
    "                 'What is the order number?']\n",
    "\n",
    "# Models to try\n",
    "model_name_list = ['distilbert/distilbert-base-cased-distilled-squad',\n",
    "                   'deepset/roberta-base-squad2']"
   ]
  },
  {
   "cell_type": "code",
   "execution_count": 11,
   "id": "e664a159-1566-4a6e-9fe4-e4197606e0d2",
   "metadata": {},
   "outputs": [
    {
     "name": "stdout",
     "output_type": "stream",
     "text": [
      "model: facebook/bart-large-cnn\n"
     ]
    },
    {
     "name": "stderr",
     "output_type": "stream",
     "text": [
      "Some weights of BartForQuestionAnswering were not initialized from the model checkpoint at facebook/bart-large-cnn and are newly initialized: ['qa_outputs.bias', 'qa_outputs.weight']\n",
      "You should probably TRAIN this model on a down-stream task to be able to use it for predictions and inference.\n",
      "Device set to use cuda:0\n"
     ]
    },
    {
     "data": {
      "text/html": [
       "<div>\n",
       "<style scoped>\n",
       "    .dataframe tbody tr th:only-of-type {\n",
       "        vertical-align: middle;\n",
       "    }\n",
       "\n",
       "    .dataframe tbody tr th {\n",
       "        vertical-align: top;\n",
       "    }\n",
       "\n",
       "    .dataframe thead th {\n",
       "        text-align: right;\n",
       "    }\n",
       "</style>\n",
       "<table border=\"1\" class=\"dataframe\">\n",
       "  <thead>\n",
       "    <tr style=\"text-align: right;\">\n",
       "      <th></th>\n",
       "      <th>score</th>\n",
       "      <th>start</th>\n",
       "      <th>end</th>\n",
       "      <th>answer</th>\n",
       "      <th>question</th>\n",
       "    </tr>\n",
       "  </thead>\n",
       "  <tbody>\n",
       "    <tr>\n",
       "      <th>0</th>\n",
       "      <td>0.000144</td>\n",
       "      <td>375</td>\n",
       "      <td>443</td>\n",
       "      <td>return the incorrect item and ensure \\nthe cor...</td>\n",
       "      <td>What was wrong with the order?</td>\n",
       "    </tr>\n",
       "    <tr>\n",
       "      <th>1</th>\n",
       "      <td>0.000146</td>\n",
       "      <td>375</td>\n",
       "      <td>443</td>\n",
       "      <td>return the incorrect item and ensure \\nthe cor...</td>\n",
       "      <td>What is the name of the person who wrote the m...</td>\n",
       "    </tr>\n",
       "    <tr>\n",
       "      <th>2</th>\n",
       "      <td>0.000142</td>\n",
       "      <td>375</td>\n",
       "      <td>443</td>\n",
       "      <td>return the incorrect item and ensure \\nthe cor...</td>\n",
       "      <td>What is the order number?</td>\n",
       "    </tr>\n",
       "  </tbody>\n",
       "</table>\n",
       "</div>"
      ],
      "text/plain": [
       "      score  start  end                                             answer                                           question\n",
       "0  0.000144    375  443  return the incorrect item and ensure \\nthe cor...                     What was wrong with the order?\n",
       "1  0.000146    375  443  return the incorrect item and ensure \\nthe cor...  What is the name of the person who wrote the m...\n",
       "2  0.000142    375  443  return the incorrect item and ensure \\nthe cor...                          What is the order number?"
      ]
     },
     "metadata": {},
     "output_type": "display_data"
    },
    {
     "name": "stdout",
     "output_type": "stream",
     "text": [
      "model: sshleifer/distilbart-cnn-12-6\n"
     ]
    },
    {
     "name": "stderr",
     "output_type": "stream",
     "text": [
      "Some weights of BartForQuestionAnswering were not initialized from the model checkpoint at sshleifer/distilbart-cnn-12-6 and are newly initialized: ['qa_outputs.bias', 'qa_outputs.weight']\n",
      "You should probably TRAIN this model on a down-stream task to be able to use it for predictions and inference.\n",
      "Device set to use cuda:0\n"
     ]
    },
    {
     "data": {
      "text/html": [
       "<div>\n",
       "<style scoped>\n",
       "    .dataframe tbody tr th:only-of-type {\n",
       "        vertical-align: middle;\n",
       "    }\n",
       "\n",
       "    .dataframe tbody tr th {\n",
       "        vertical-align: top;\n",
       "    }\n",
       "\n",
       "    .dataframe thead th {\n",
       "        text-align: right;\n",
       "    }\n",
       "</style>\n",
       "<table border=\"1\" class=\"dataframe\">\n",
       "  <thead>\n",
       "    <tr style=\"text-align: right;\">\n",
       "      <th></th>\n",
       "      <th>score</th>\n",
       "      <th>start</th>\n",
       "      <th>end</th>\n",
       "      <th>answer</th>\n",
       "      <th>question</th>\n",
       "    </tr>\n",
       "  </thead>\n",
       "  <tbody>\n",
       "    <tr>\n",
       "      <th>0</th>\n",
       "      <td>0.000267</td>\n",
       "      <td>522</td>\n",
       "      <td>523</td>\n",
       "      <td>\\n</td>\n",
       "      <td>What was wrong with the order?</td>\n",
       "    </tr>\n",
       "    <tr>\n",
       "      <th>1</th>\n",
       "      <td>0.000192</td>\n",
       "      <td>522</td>\n",
       "      <td>523</td>\n",
       "      <td>\\n</td>\n",
       "      <td>What is the name of the person who wrote the m...</td>\n",
       "    </tr>\n",
       "    <tr>\n",
       "      <th>2</th>\n",
       "      <td>0.000266</td>\n",
       "      <td>522</td>\n",
       "      <td>523</td>\n",
       "      <td>\\n</td>\n",
       "      <td>What is the order number?</td>\n",
       "    </tr>\n",
       "  </tbody>\n",
       "</table>\n",
       "</div>"
      ],
      "text/plain": [
       "      score  start  end answer                                           question\n",
       "0  0.000267    522  523     \\n                     What was wrong with the order?\n",
       "1  0.000192    522  523     \\n  What is the name of the person who wrote the m...\n",
       "2  0.000266    522  523     \\n                          What is the order number?"
      ]
     },
     "metadata": {},
     "output_type": "display_data"
    }
   ],
   "source": [
    "# Run the models on the task\n",
    "for model_name in model_name_list:\n",
    "    print(f'model: {model_name}')\n",
    "    reader = pipeline(task = 'question-answering', model=model_name)\n",
    "    outputs = reader(question=question_list, context=text) \n",
    "    outputs_df = pd.DataFrame(outputs).assign(question=question_list)\n",
    "    display(outputs_df)"
   ]
  },
  {
   "cell_type": "markdown",
   "id": "185aec4b-9195-4ddf-b4c9-658cc22fb25d",
   "metadata": {},
   "source": [
    "### Task: text summarization ###"
   ]
  },
  {
   "cell_type": "code",
   "execution_count": 12,
   "id": "d191ebcf-ccbe-410a-bb44-598ca8539e45",
   "metadata": {},
   "outputs": [
    {
     "name": "stdout",
     "output_type": "stream",
     "text": [
      "model: facebook/bart-large-cnn\n"
     ]
    },
    {
     "name": "stderr",
     "output_type": "stream",
     "text": [
      "Device set to use cuda:0\n"
     ]
    },
    {
     "data": {
      "text/plain": [
       "'A German man ordered a web camera but received a different model than what he had ordered. He asked Amazon Customer Service to help him return the incorrect item. The customer service rep sent him a new camera.'"
      ]
     },
     "metadata": {},
     "output_type": "display_data"
    },
    {
     "name": "stdout",
     "output_type": "stream",
     "text": [
      "model: sshleifer/distilbart-cnn-12-6\n"
     ]
    },
    {
     "name": "stderr",
     "output_type": "stream",
     "text": [
      "Device set to use cuda:0\n"
     ]
    },
    {
     "data": {
      "text/plain": [
       "' Amazon customer service . Andreas Werdich writes to Amazon Customer Service . He received a different model than what he had originally ordered for a web camera . He asks for assistance in resolving this matter .'"
      ]
     },
     "metadata": {},
     "output_type": "display_data"
    }
   ],
   "source": [
    "model_name_list = ['facebook/bart-large-cnn',\n",
    "                   'sshleifer/distilbart-cnn-12-6']\n",
    "                   \n",
    "for model_name in model_name_list:\n",
    "    print(f'model: {model_name}')\n",
    "    summarizer = pipeline(task='summarization', model=model_name)\n",
    "    max_length = 130\n",
    "    min_length = 30\n",
    "    summary = summarizer(text, \n",
    "                         max_length=max_length, \n",
    "                         min_length=min_length, \n",
    "                         do_sample=True)\n",
    "    display(summary[0].get('summary_text'))"
   ]
  },
  {
   "cell_type": "markdown",
   "id": "3173347d-c06b-40ba-97ad-a18920933826",
   "metadata": {},
   "source": [
    "### Task: Text generation ###"
   ]
  },
  {
   "cell_type": "code",
   "execution_count": 13,
   "id": "92465a11-67ed-4dae-b1f2-1bdc611b340c",
   "metadata": {},
   "outputs": [],
   "source": [
    "response = 'I am sorry that your order was mixed up'\n",
    "# GPT-2 is not so good at writing a response\n",
    "p_1 = f'User: {text.replace(\"\\n\", \"\")}. Customer service representative response: {response}'\n",
    "\n",
    "# # Let's try a different one\n",
    "p_2 = f'There was n alligator '\n",
    "\n",
    "prompt_list = [p_1, p_2]"
   ]
  },
  {
   "cell_type": "code",
   "execution_count": 15,
   "id": "009a02e1-c365-4075-bf9a-de58e6aba360",
   "metadata": {},
   "outputs": [
    {
     "name": "stdout",
     "output_type": "stream",
     "text": [
      "openai-community/gpt2\n"
     ]
    },
    {
     "name": "stderr",
     "output_type": "stream",
     "text": [
      "Device set to use cuda:0\n",
      "Setting `pad_token_id` to `eos_token_id`:50256 for open-end generation.\n"
     ]
    },
    {
     "name": "stdout",
     "output_type": "stream",
     "text": [
      "\n",
      "prompt: User: Dear Amazon Customer Service,I hope this message finds you well. I am writing to bring to your attention an issue with a recent order delivered to me. I ordered a web camera (Order #2378), but unfortunately, I received a different model than what I had originally ordered.I kindly request assistance in resolving this matter. Could you please provide guidance on how to return the incorrect item and ensure the correct web camera is sent to me as soon as possible? Thank you for your prompt attention to this issue. I appreciate your support and look forward to resolving this matter quickly.Best regards, Andreas Werdich. Customer service representative response: I am sorry that your order was mixed up\n"
     ]
    },
    {
     "data": {
      "text/plain": [
       "[{'generated_text': \". I did not receive the same item on my order and my current order. I received the item and it was delivered the same day as you would expect. Your customer service company had promised me this same item which is not only delivered but arrived in my address which is about 5 days before I received it. I am sure this is due to not having a buyer's documentation card used as a delivery method. Any additional inquiries please contact me. Thank you for your quick response.\\n\\nIf you would like additional guidance, I would like to contact you as soon as possible. Thank you for your prompt response.\"}]"
      ]
     },
     "metadata": {},
     "output_type": "display_data"
    },
    {
     "name": "stderr",
     "output_type": "stream",
     "text": [
      "Setting `pad_token_id` to `eos_token_id`:50256 for open-end generation.\n"
     ]
    },
    {
     "name": "stdout",
     "output_type": "stream",
     "text": [
      "\n",
      "prompt: There was n alligator \n"
     ]
    },
    {
     "data": {
      "text/plain": [
       "[{'generated_text': 'ichthyosaurs, and it has not had dinosaurs,\" said Mark Ewan Johnson, a doctoral student and former senior scientist of paleoscientists at the Ohio State University, who was not involved with the work.\\n\\nAn estimated 15 million years ago the dinosaurs disappeared about 5,000 feet away from one of the giants. Archaeologists find skeletons of a young giant that weighs about 500 pounds. The bones of a skeleton known as a jay can go missing in the Cretaceous period about 120,000 years ago.\\n\\nJohnson said there have been no documented signs of dinosaurs that lived during this era, a rarity even in'}]"
      ]
     },
     "metadata": {},
     "output_type": "display_data"
    }
   ],
   "source": [
    "# Models to try\n",
    "model_name_list = ['openai-community/gpt2']\n",
    "                   #'mistralai/Mistral-7B-Instruct-v0.2']\n",
    "\n",
    "for model_name in model_name_list:\n",
    "    print(model_name)\n",
    "    generator = pipeline(task='text-generation', model=model_name)\n",
    "    for prompt in prompt_list:\n",
    "        print()\n",
    "        print(f'prompt: {prompt}')\n",
    "        set_seed(1334)\n",
    "        outputs = generator(prompt, max_new_tokens=128, \n",
    "                            do_sample=True, return_full_text=False)\n",
    "        display(outputs)"
   ]
  },
  {
   "cell_type": "markdown",
   "id": "5347bc6a-5228-437e-bc94-032466f27158",
   "metadata": {},
   "source": [
    "### Translation ###"
   ]
  },
  {
   "cell_type": "code",
   "execution_count": 17,
   "id": "51330d3c-02a4-4551-a38c-cf08fc08497f",
   "metadata": {},
   "outputs": [
    {
     "data": {
      "application/vnd.jupyter.widget-view+json": {
       "model_id": "2380c604e36c459d82ab2e738469a70e",
       "version_major": 2,
       "version_minor": 0
      },
      "text/plain": [
       "config.json:   0%|          | 0.00/1.33k [00:00<?, ?B/s]"
      ]
     },
     "metadata": {},
     "output_type": "display_data"
    },
    {
     "data": {
      "application/vnd.jupyter.widget-view+json": {
       "model_id": "47d8f84197ab4db186245e75f89f512d",
       "version_major": 2,
       "version_minor": 0
      },
      "text/plain": [
       "pytorch_model.bin:   0%|          | 0.00/298M [00:00<?, ?B/s]"
      ]
     },
     "metadata": {},
     "output_type": "display_data"
    },
    {
     "data": {
      "application/vnd.jupyter.widget-view+json": {
       "model_id": "1f1b9b5722a44f899b6ed023923179cd",
       "version_major": 2,
       "version_minor": 0
      },
      "text/plain": [
       "generation_config.json:   0%|          | 0.00/293 [00:00<?, ?B/s]"
      ]
     },
     "metadata": {},
     "output_type": "display_data"
    },
    {
     "data": {
      "application/vnd.jupyter.widget-view+json": {
       "model_id": "327f4fa203774669977c35a680827b14",
       "version_major": 2,
       "version_minor": 0
      },
      "text/plain": [
       "tokenizer_config.json:   0%|          | 0.00/42.0 [00:00<?, ?B/s]"
      ]
     },
     "metadata": {},
     "output_type": "display_data"
    },
    {
     "data": {
      "application/vnd.jupyter.widget-view+json": {
       "model_id": "60c070b479774271bf292297803b2f06",
       "version_major": 2,
       "version_minor": 0
      },
      "text/plain": [
       "source.spm:   0%|          | 0.00/768k [00:00<?, ?B/s]"
      ]
     },
     "metadata": {},
     "output_type": "display_data"
    },
    {
     "data": {
      "application/vnd.jupyter.widget-view+json": {
       "model_id": "6bde0b51b8a34c56b0d5d24c4ce3a9d4",
       "version_major": 2,
       "version_minor": 0
      },
      "text/plain": [
       "target.spm:   0%|          | 0.00/797k [00:00<?, ?B/s]"
      ]
     },
     "metadata": {},
     "output_type": "display_data"
    },
    {
     "data": {
      "application/vnd.jupyter.widget-view+json": {
       "model_id": "356270bb3986408482d238c672271278",
       "version_major": 2,
       "version_minor": 0
      },
      "text/plain": [
       "vocab.json:   0%|          | 0.00/1.27M [00:00<?, ?B/s]"
      ]
     },
     "metadata": {},
     "output_type": "display_data"
    },
    {
     "name": "stderr",
     "output_type": "stream",
     "text": [
      "Device set to use cuda:0\n"
     ]
    }
   ],
   "source": [
    "model_name = 'Helsinki-NLP/opus-mt-en-de'\n",
    "translator = pipeline(model=model_name)"
   ]
  },
  {
   "cell_type": "code",
   "execution_count": 18,
   "id": "7dd6af4c-cdf8-4da9-bfec-85d44011e937",
   "metadata": {},
   "outputs": [
    {
     "data": {
      "text/plain": [
       "'\\nDear Amazon Customer Service,\\nI hope this message finds you well. I am writing to bring to your attention an issue with a recent order delivered to me. \\nI ordered a web camera (Order #2378), but unfortunately, I received a different model than what I had originally ordered.\\nI kindly request assistance in resolving this matter. \\nCould you please provide guidance on how to return the incorrect item and ensure \\nthe correct web camera is sent to me as soon as possible? Thank you for your prompt attention to this issue. \\nI appreciate your support and look forward to resolving this matter quickly.\\nBest regards, Andreas Werdich\\n'"
      ]
     },
     "metadata": {},
     "output_type": "display_data"
    },
    {
     "name": "stdout",
     "output_type": "stream",
     "text": [
      "\n"
     ]
    },
    {
     "data": {
      "text/plain": [
       "[{'translation_text': 'Sehr geehrter Amazon Customer Service, ich hoffe, diese Nachricht findet Sie gut. Ich schreibe, um Ihre Aufmerksamkeit auf ein Problem mit einer kürzlich an mich gelieferten Bestellung zu bringen. Ich bestellte eine Web-Kamera (Ordnung #2378), aber leider erhielt ich ein anderes Modell als das, was ich ursprünglich bestellt hatte. Ich bitte um Unterstützung bei der Lösung dieser Angelegenheit. Könnten Sie bitte Hinweise geben, wie Sie den falschen Artikel zurückgeben und sicherstellen, dass die richtige Web-Kamera wird mir so schnell wie möglich gesendet? Vielen Dank für Ihre schnelle Aufmerksamkeit zu diesem Thema. Ich schätze Ihre Unterstützung und freue mich darauf, diese Angelegenheit schnell zu lösen.'}]"
      ]
     },
     "metadata": {},
     "output_type": "display_data"
    }
   ],
   "source": [
    "outputs = translator(text)\n",
    "display(text)\n",
    "print()\n",
    "display(outputs)"
   ]
  }
 ],
 "metadata": {
  "kernelspec": {
   "display_name": "Python 3 (ipykernel)",
   "language": "python",
   "name": "python3"
  },
  "language_info": {
   "codemirror_mode": {
    "name": "ipython",
    "version": 3
   },
   "file_extension": ".py",
   "mimetype": "text/x-python",
   "name": "python",
   "nbconvert_exporter": "python",
   "pygments_lexer": "ipython3",
   "version": "3.12.3"
  }
 },
 "nbformat": 4,
 "nbformat_minor": 5
}
