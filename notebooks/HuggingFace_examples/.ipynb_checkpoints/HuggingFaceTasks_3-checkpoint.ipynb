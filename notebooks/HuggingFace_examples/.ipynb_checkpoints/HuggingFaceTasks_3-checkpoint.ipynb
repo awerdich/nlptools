{
 "cells": [
  {
   "cell_type": "markdown",
   "id": "cc38e1e0-9847-4faa-81a1-099f7478f66b",
   "metadata": {},
   "source": [
    "### Zero-shot classification in Python ###"
   ]
  },
  {
   "cell_type": "code",
   "execution_count": 27,
   "id": "f3e627fc-094d-412a-82fc-4d3b27074179",
   "metadata": {},
   "outputs": [
    {
     "data": {
      "text/html": [
       "<style>.container { width:100% !important; }</style>"
      ],
      "text/plain": [
       "<IPython.core.display.HTML object>"
      ]
     },
     "metadata": {},
     "output_type": "display_data"
    },
    {
     "name": "stdout",
     "output_type": "stream",
     "text": [
      "The autoreload extension is already loaded. To reload it, use:\n",
      "  %reload_ext autoreload\n",
      "NLP Tools package version:  0.0.post1.dev42+ga7dec38.d20250114\n",
      "PyTorch version:            2.6.0a0+df5bbc09d1.nv24.11\n"
     ]
    }
   ],
   "source": [
    "import os\n",
    "import glob\n",
    "import numpy as np\n",
    "import pandas as pd\n",
    "from matplotlib import pyplot as plt\n",
    "import seaborn as sb\n",
    "from sklearn.metrics import roc_auc_score, f1_score, confusion_matrix\n",
    "\n",
    "# PyTorch packages\n",
    "import torch\n",
    "import torch.nn as nn\n",
    "\n",
    "# Hugging Face\n",
    "import transformers\n",
    "from transformers import pipeline\n",
    "\n",
    "# Appearance of the Notebook\n",
    "from IPython.display import display, HTML\n",
    "display(HTML(\"<style>.container { width:100% !important; }</style>\"))\n",
    "np.set_printoptions(linewidth=110)\n",
    "pd.set_option('display.max_rows', 500)\n",
    "pd.set_option('display.max_columns', 100)\n",
    "pd.set_option('display.width', 1000)\n",
    "\n",
    "# Import this module with autoreload\n",
    "%load_ext autoreload\n",
    "%autoreload 2\n",
    "import nlptools as nlpt\n",
    "from nlptools.fileutils import FileOP\n",
    "print(f'NLP Tools package version:  {nlpt.__version__}')\n",
    "print(f'PyTorch version:            {torch.__version__}')"
   ]
  },
  {
   "cell_type": "code",
   "execution_count": 2,
   "id": "5d1242a0-329a-4205-b24d-903c8a236227",
   "metadata": {},
   "outputs": [
    {
     "name": "stdout",
     "output_type": "stream",
     "text": [
      "CUDA available: True\n",
      "Number of GPUs found:  1\n",
      "Current device ID:     0\n",
      "GPU device name:       NVIDIA GeForce RTX 3070 Laptop GPU\n",
      "CUDNN version:         90501\n",
      "\n",
      "Device for model training/inference: cuda:0\n"
     ]
    }
   ],
   "source": [
    "# GPU checks\n",
    "is_cuda = torch.cuda.is_available()\n",
    "print(f'CUDA available: {is_cuda}')\n",
    "print(f'Number of GPUs found:  {torch.cuda.device_count()}')\n",
    "\n",
    "if is_cuda:\n",
    "    print(f'Current device ID:     {torch.cuda.current_device()}')\n",
    "    print(f'GPU device name:       {torch.cuda.get_device_name(0)}')\n",
    "    print(f'CUDNN version:         {torch.backends.cudnn.version()}')\n",
    "    device_str = 'cuda:0'\n",
    "    torch.cuda.empty_cache() \n",
    "else:\n",
    "    device_str = 'cpu'\n",
    "device = torch.device(device_str)\n",
    "print()\n",
    "print(f'Device for model training/inference: {device}')"
   ]
  },
  {
   "cell_type": "code",
   "execution_count": 3,
   "id": "92136bba-7ca5-403d-8493-e724f14351e8",
   "metadata": {},
   "outputs": [],
   "source": [
    "# Directories and files\n",
    "data_dir = os.path.join(os.environ.get('HOME'), 'data')\n",
    "diskdata_dir = os.path.join(os.environ.get('HOME'), 'diskdata', 'udemy')"
   ]
  },
  {
   "cell_type": "code",
   "execution_count": 4,
   "id": "fa736da3-4022-47dd-8c34-45924173aa69",
   "metadata": {},
   "outputs": [
    {
     "name": "stderr",
     "output_type": "stream",
     "text": [
      "No model was supplied, defaulted to facebook/bart-large-mnli and revision d7645e1 (https://huggingface.co/facebook/bart-large-mnli).\n",
      "Using a pipeline without specifying a model name and revision in production is not recommended.\n",
      "Device set to use cuda:0\n"
     ]
    }
   ],
   "source": [
    "clf = pipeline('zero-shot-classification', device = 0)"
   ]
  },
  {
   "cell_type": "code",
   "execution_count": 6,
   "id": "964bed34-4cba-4317-8f07-205d60686748",
   "metadata": {},
   "outputs": [
    {
     "name": "stdout",
     "output_type": "stream",
     "text": [
      "File ‘/app/data/bbc_text_cls.csv’ already there; not retrieving.\n",
      "\n"
     ]
    }
   ],
   "source": [
    "# We use the bbc news data set\n",
    "!wget -nc https://lazyprogrammer.me/course_files/nlp/bbc_text_cls.csv -P /app/data\n",
    "df = pd.read_csv(os.path.join(data_dir, 'bbc_text_cls.csv'))"
   ]
  },
  {
   "cell_type": "code",
   "execution_count": 7,
   "id": "35f1e928-b3aa-4cc1-9fc4-afd4a11fe025",
   "metadata": {},
   "outputs": [
    {
     "data": {
      "text/plain": [
       "{'sequence': 'This is a great movie.',\n",
       " 'labels': ['positive', 'negative'],\n",
       " 'scores': [0.9960284233093262, 0.003971539903432131]}"
      ]
     },
     "execution_count": 7,
     "metadata": {},
     "output_type": "execute_result"
    }
   ],
   "source": [
    "clf('This is a great movie.', candidate_labels=['positive', 'negative'])"
   ]
  },
  {
   "cell_type": "code",
   "execution_count": 15,
   "id": "7ad4a581-18f7-44da-a067-5b98acdee87d",
   "metadata": {},
   "outputs": [
    {
     "name": "stdout",
     "output_type": "stream",
     "text": [
      "['business', 'entertainment', 'politics', 'sport', 'tech']\n",
      "(200, 2)\n"
     ]
    },
    {
     "data": {
      "text/html": [
       "<div>\n",
       "<style scoped>\n",
       "    .dataframe tbody tr th:only-of-type {\n",
       "        vertical-align: middle;\n",
       "    }\n",
       "\n",
       "    .dataframe tbody tr th {\n",
       "        vertical-align: top;\n",
       "    }\n",
       "\n",
       "    .dataframe thead th {\n",
       "        text-align: right;\n",
       "    }\n",
       "</style>\n",
       "<table border=\"1\" class=\"dataframe\">\n",
       "  <thead>\n",
       "    <tr style=\"text-align: right;\">\n",
       "      <th></th>\n",
       "      <th>text</th>\n",
       "      <th>labels</th>\n",
       "    </tr>\n",
       "  </thead>\n",
       "  <tbody>\n",
       "    <tr>\n",
       "      <th>0</th>\n",
       "      <td>Duran Duran show set for US TV\\n\\nChart stars ...</td>\n",
       "      <td>entertainment</td>\n",
       "    </tr>\n",
       "    <tr>\n",
       "      <th>1</th>\n",
       "      <td>Musicians to tackle US red tape\\n\\nMusicians' ...</td>\n",
       "      <td>entertainment</td>\n",
       "    </tr>\n",
       "    <tr>\n",
       "      <th>2</th>\n",
       "      <td>Merritt close to indoor 400m mark\\n\\nTeenager ...</td>\n",
       "      <td>sport</td>\n",
       "    </tr>\n",
       "    <tr>\n",
       "      <th>3</th>\n",
       "      <td>India widens access to telecoms\\n\\nIndia has r...</td>\n",
       "      <td>business</td>\n",
       "    </tr>\n",
       "    <tr>\n",
       "      <th>4</th>\n",
       "      <td>Wada will appeal against ruling\\n\\nThe World A...</td>\n",
       "      <td>sport</td>\n",
       "    </tr>\n",
       "  </tbody>\n",
       "</table>\n",
       "</div>"
      ],
      "text/plain": [
       "                                                text         labels\n",
       "0  Duran Duran show set for US TV\\n\\nChart stars ...  entertainment\n",
       "1  Musicians to tackle US red tape\\n\\nMusicians' ...  entertainment\n",
       "2  Merritt close to indoor 400m mark\\n\\nTeenager ...          sport\n",
       "3  India widens access to telecoms\\n\\nIndia has r...       business\n",
       "4  Wada will appeal against ruling\\n\\nThe World A...          sport"
      ]
     },
     "metadata": {},
     "output_type": "display_data"
    }
   ],
   "source": [
    "# Let's limit the number of predictions\n",
    "labels = list(df['labels'].unique())\n",
    "print(labels)\n",
    "\n",
    "n_samples = 200\n",
    "df_samples = df.sample(200, random_state=123).reset_index(drop=True)\n",
    "print(df_samples.shape)\n",
    "display(df_samples.head())"
   ]
  },
  {
   "cell_type": "code",
   "execution_count": 16,
   "id": "8b748b63-b6b8-4d92-91e7-b714ae22fd90",
   "metadata": {},
   "outputs": [],
   "source": [
    "preds = clf(df_samples['text'].tolist(), candidate_labels=labels)"
   ]
  },
  {
   "cell_type": "code",
   "execution_count": 17,
   "id": "56451b37-3dda-423e-8c46-afebeab4b42d",
   "metadata": {},
   "outputs": [
    {
     "name": "stdout",
     "output_type": "stream",
     "text": [
      "{'sequence': 'Help for indies in download sales\\n\\nA campaign has been launched to help independent labels get their music online and benefit from the growing trend for downloading music.\\n\\nThe British Phonographic Industry has identified a lack of independent music available for download. \"We want to ensure that independent repertoire is as successful in the download world as it is in the physical world,\" said BPI chief Peter Jamieson. Downloaded singles have now overtaken physical singles in the UK. Mr Jamieson said his organisation was lobbying music service providers, which include iTunes and Napster, to urge them to promote independent releases. Download sales are due to be incorporated into the UK singles chart later this year. \"With downloads shortly to be eligible for the singles chart, this is a key commercial issue on which the BPI committed to assisting its members,\" added Mr Jamieson. As part of the campaign the BPI is running a series of seminars entitled Getting Your Music Online, focusing on how independent labels can embrace digital music. The US has already begun incorporating download sales in the Billboard\\'s Hot 100 chart.', 'labels': ['business', 'tech', 'entertainment', 'politics', 'sport'], 'scores': [0.7833284139633179, 0.09245317429304123, 0.07344342023134232, 0.03637458384037018, 0.014400416053831577]}\n"
     ]
    }
   ],
   "source": [
    "print(preds[10])"
   ]
  },
  {
   "cell_type": "code",
   "execution_count": 28,
   "id": "1dde6718-34d5-41ea-ab02-46031fc99a09",
   "metadata": {},
   "outputs": [
    {
     "data": {
      "image/png": "[encoded data removed]",
      "text/plain": [
       "<Figure size 640x480 with 2 Axes>"
      ]
     },
     "metadata": {},
     "output_type": "display_data"
    }
   ],
   "source": [
    "# Convert prediction probs into an NxK matrix according to\n",
    "# original label order\n",
    "\n",
    "N = len(df_samples)\n",
    "K = len(labels)\n",
    "label2idx = {v:k for k,v in enumerate(labels)}\n",
    "\n",
    "probs = np.zeros((N, K))\n",
    "for i in range(N):\n",
    "  # loop through labels and scores in corresponding order\n",
    "  d = preds[i]\n",
    "  for label, score in zip(d['labels'], d['scores']):\n",
    "    k = label2idx[label]\n",
    "    probs[i, k] = score\n",
    "\n",
    "int_labels = [label2idx[x] for x in df_samples['labels']]\n",
    "int_preds = np.argmax(probs, axis=1)\n",
    "cm = confusion_matrix(int_labels, int_preds, normalize='true')\n",
    "\n",
    "def plot_cm(cm):\n",
    "  df_cm = pd.DataFrame(cm, index=labels, columns=labels)\n",
    "  ax = sb.heatmap(df_cm, annot=True, fmt='.2g')\n",
    "  ax.set_xlabel(\"Predicted\")\n",
    "  ax.set_ylabel(\"Target\")\n",
    "\n",
    "plot_cm(cm)"
   ]
  },
  {
   "cell_type": "code",
   "execution_count": null,
   "id": "7e2fc388-ef6c-425e-8588-ccc6a990970c",
   "metadata": {},
   "outputs": [],
   "source": []
  }
 ],
 "metadata": {
  "kernelspec": {
   "display_name": "Python 3 (ipykernel)",
   "language": "python",
   "name": "python3"
  },
  "language_info": {
   "codemirror_mode": {
    "name": "ipython",
    "version": 3
   },
   "file_extension": ".py",
   "mimetype": "text/x-python",
   "name": "python",
   "nbconvert_exporter": "python",
   "pygments_lexer": "ipython3",
   "version": "3.12.3"
  }
 },
 "nbformat": 4,
 "nbformat_minor": 5
}
